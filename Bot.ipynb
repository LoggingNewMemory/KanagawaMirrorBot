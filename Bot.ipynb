{
  "cells": [
    {
      "cell_type": "markdown",
      "id": "957211cf",
      "metadata": {
        "colab_type": "text",
        "id": "view-in-github"
      },
      "source": [
        "<a href=\"https://colab.research.google.com/github/LoggingNewMemory/MirrorBot/blob/main/Bot.ipynb\" target=\"_parent\"><img src=\"https://colab.research.google.com/assets/colab-badge.svg\" alt=\"Open In Colab\"/></a>"
      ]
    },
    {
      "cell_type": "markdown",
      "id": "cneNiwkziLNB",
      "metadata": {
        "id": "cneNiwkziLNB"
      },
      "source": [
        "**Google Colab Mirrorbot** <br />\n",
        "By: Kanagawa Yamada"
      ]
    },
    {
      "cell_type": "code",
      "execution_count": 26,
      "id": "509fa80a",
      "metadata": {
        "colab": {
          "base_uri": "https://localhost:8080/"
        },
        "collapsed": true,
        "id": "509fa80a",
        "outputId": "32e8a1d4-234e-47d1-9eb3-6026222df289"
      },
      "outputs": [
        {
          "name": "stdout",
          "output_type": "stream",
          "text": [
            "Requirement already satisfied: requests in /usr/local/lib/python3.11/dist-packages (2.32.3)\n",
            "Requirement already satisfied: beautifulsoup4 in /usr/local/lib/python3.11/dist-packages (4.13.4)\n",
            "Requirement already satisfied: pyrogram in /usr/local/lib/python3.11/dist-packages (2.0.106)\n",
            "Requirement already satisfied: tgcrypto in /usr/local/lib/python3.11/dist-packages (1.2.5)\n",
            "Requirement already satisfied: charset-normalizer<4,>=2 in /usr/local/lib/python3.11/dist-packages (from requests) (3.4.2)\n",
            "Requirement already satisfied: idna<4,>=2.5 in /usr/local/lib/python3.11/dist-packages (from requests) (3.10)\n",
            "Requirement already satisfied: urllib3<3,>=1.21.1 in /usr/local/lib/python3.11/dist-packages (from requests) (2.4.0)\n",
            "Requirement already satisfied: certifi>=2017.4.17 in /usr/local/lib/python3.11/dist-packages (from requests) (2025.4.26)\n",
            "Requirement already satisfied: soupsieve>1.2 in /usr/local/lib/python3.11/dist-packages (from beautifulsoup4) (2.7)\n",
            "Requirement already satisfied: typing-extensions>=4.0.0 in /usr/local/lib/python3.11/dist-packages (from beautifulsoup4) (4.13.2)\n",
            "Requirement already satisfied: pyaes==1.6.1 in /usr/local/lib/python3.11/dist-packages (from pyrogram) (1.6.1)\n",
            "Requirement already satisfied: pysocks==1.7.1 in /usr/local/lib/python3.11/dist-packages (from pyrogram) (1.7.1)\n"
          ]
        }
      ],
      "source": [
        "# 🛠️ Install required packages\n",
        "!pip install requests beautifulsoup4 pyrogram tgcrypto\n"
      ]
    },
    {
      "cell_type": "code",
      "execution_count": 27,
      "id": "c9087712",
      "metadata": {
        "id": "c9087712"
      },
      "outputs": [],
      "source": [
        "# 📦 Import necessary libraries\n",
        "import os\n",
        "import requests\n",
        "import asyncio\n",
        "from urllib.parse import urlparse\n",
        "from pathlib import Path\n",
        "import zipfile\n",
        "import tarfile\n",
        "from google.colab import drive, files\n",
        "from IPython.display import display, HTML\n",
        "import shutil\n"
      ]
    },
    {
      "cell_type": "code",
      "execution_count": 28,
      "id": "80e6ac07",
      "metadata": {
        "colab": {
          "base_uri": "https://localhost:8080/"
        },
        "collapsed": true,
        "id": "80e6ac07",
        "outputId": "a8c9ebf1-7598-4598-b7e6-7065d28be733"
      },
      "outputs": [
        {
          "name": "stdout",
          "output_type": "stream",
          "text": [
            "Drive already mounted at /content/drive; to attempt to forcibly remount, call drive.mount(\"/content/drive\", force_remount=True).\n",
            "✅ Google Drive mounted successfully\n",
            "📁 Directories created: /content/downloads, /content/drive/MyDrive/MirrorBot\n"
          ]
        }
      ],
      "source": [
        "# 🤖 MirrorBot Class: Initialization and Setup\n",
        "class MirrorBot:\n",
        "    def __init__(self):\n",
        "        self.download_dir = \"/content/downloads\"\n",
        "        self.drive_dir = \"/content/drive/MyDrive/MirrorBot\"\n",
        "        self.mount_drive()\n",
        "        self.setup_directories()\n",
        "\n",
        "    def mount_drive(self):\n",
        "        \"\"\"Mount Google Drive\"\"\"\n",
        "        try:\n",
        "            drive.mount('/content/drive')\n",
        "            print(\"✅ Google Drive mounted successfully\")\n",
        "        except Exception as e:\n",
        "            print(f\"❌ Error mounting drive: {e}\")\n",
        "\n",
        "    def setup_directories(self):\n",
        "        \"\"\"Create necessary directories\"\"\"\n",
        "        os.makedirs(self.download_dir, exist_ok=True)\n",
        "        os.makedirs(self.drive_dir, exist_ok=True)\n",
        "        print(f\"📁 Directories created: {self.download_dir}, {self.drive_dir}\")\n",
        "\n",
        "    # 🔧 MirrorBot Class: Helper Methods\n",
        "\n",
        "    def get_filename_from_url(self, url):\n",
        "        parsed = urlparse(url)\n",
        "        filename = os.path.basename(parsed.path)\n",
        "        if not filename or '.' not in filename:\n",
        "            filename = f\"download_{hash(url) % 10000}\"\n",
        "        return filename\n",
        "\n",
        "    def format_size(self, bytes):\n",
        "        for unit in ['B', 'KB', 'MB', 'GB']:\n",
        "            if bytes < 1024:\n",
        "                return f\"{bytes:.1f} {unit}\"\n",
        "            bytes /= 1024\n",
        "        return f\"{bytes:.1f} TB\"\n",
        "\n",
        "    # 📥 Download and Extract\n",
        "    def download_file(self, url, custom_name=None):\n",
        "        try:\n",
        "            print(f\"🔄 Starting download: {url}\")\n",
        "            headers = {'User-Agent': 'Mozilla/5.0'}\n",
        "            response = requests.get(url, headers=headers, stream=True)\n",
        "            response.raise_for_status()\n",
        "\n",
        "            filename = custom_name or self.get_filename_from_url(url)\n",
        "            filepath = os.path.join(self.download_dir, filename)\n",
        "            total_size = int(response.headers.get('content-length', 0))\n",
        "            downloaded = 0\n",
        "\n",
        "            with open(filepath, 'wb') as file:\n",
        "                for chunk in response.iter_content(chunk_size=8192):\n",
        "                    if chunk:\n",
        "                        file.write(chunk)\n",
        "                        downloaded += len(chunk)\n",
        "                        if total_size > 0:\n",
        "                            progress = (downloaded / total_size) * 100\n",
        "                            print(f\"\\r📥 Progress: {progress:.1f}%\", end='', flush=True)\n",
        "\n",
        "            print(f\"\\n✅ Downloaded: {filename} ({self.format_size(downloaded)})\")\n",
        "            return filepath\n",
        "\n",
        "        except Exception as e:\n",
        "            print(f\"❌ Download failed: {e}\")\n",
        "            return None\n",
        "\n",
        "    def extract_archive(self, filepath):\n",
        "        try:\n",
        "            extract_dir = os.path.splitext(filepath)[0]\n",
        "            os.makedirs(extract_dir, exist_ok=True)\n",
        "\n",
        "            if filepath.endswith(('.zip', '.jar')):\n",
        "                with zipfile.ZipFile(filepath, 'r') as zip_ref:\n",
        "                    zip_ref.extractall(extract_dir)\n",
        "            elif filepath.endswith(('.tar', '.tar.gz', '.tgz')):\n",
        "                with tarfile.open(filepath, 'r:*') as tar_ref:\n",
        "                    tar_ref.extractall(extract_dir)\n",
        "            else:\n",
        "                print(\"⚠️ Not a supported archive format\")\n",
        "                return filepath\n",
        "\n",
        "            print(f\"📦 Extracted to: {extract_dir}\")\n",
        "            return extract_dir\n",
        "\n",
        "        except Exception as e:\n",
        "            print(f\"❌ Extraction failed: {e}\")\n",
        "            return filepath\n",
        "\n",
        "        # 📁 File Operations\n",
        "    def move_to_drive(self, filepath):\n",
        "        try:\n",
        "            filename = os.path.basename(filepath)\n",
        "            drive_path = os.path.join(self.drive_dir, filename)\n",
        "\n",
        "            if os.path.isdir(filepath):\n",
        "                shutil.copytree(filepath, drive_path, dirs_exist_ok=True)\n",
        "            else:\n",
        "                shutil.copy2(filepath, drive_path)\n",
        "\n",
        "            print(f\"☁️ Moved to Drive: {drive_path}\")\n",
        "            return drive_path\n",
        "\n",
        "        except Exception as e:\n",
        "            print(f\"❌ Failed to move to Drive: {e}\")\n",
        "            return None\n",
        "\n",
        "    def list_downloads(self):\n",
        "        print(\"\\n📋 Downloaded Files:\")\n",
        "        print(\"-\" * 50)\n",
        "        for root, dirs, files in os.walk(self.download_dir):\n",
        "            level = root.replace(self.download_dir, '').count(os.sep)\n",
        "            indent = ' ' * 2 * level\n",
        "            print(f\"{indent}{os.path.basename(root)}/\")\n",
        "            subindent = ' ' * 2 * (level + 1)\n",
        "            for file in files:\n",
        "                filepath = os.path.join(root, file)\n",
        "                size = os.path.getsize(filepath)\n",
        "                print(f\"{subindent}{file} ({self.format_size(size)})\")\n",
        "\n",
        "    def clear_downloads(self):\n",
        "        try:\n",
        "            shutil.rmtree(self.download_dir)\n",
        "            os.makedirs(self.download_dir, exist_ok=True)\n",
        "            print(\"🗑️ Downloads cleared\")\n",
        "        except Exception as e:\n",
        "            print(f\"❌ Error clearing downloads: {e}\")\n",
        "\n",
        "    # 🚀 Main Mirror Function\n",
        "    def mirror(self, url, extract=False, move_to_drive=True, custom_name=None):\n",
        "        print(f\"🚀 Mirror Bot Starting...\")\n",
        "        print(f\"📂 Download directory: {self.download_dir}\")\n",
        "        print(f\"☁️ Drive directory: {self.drive_dir}\")\n",
        "        print(\"-\" * 50)\n",
        "\n",
        "        filepath = self.download_file(url, custom_name)\n",
        "        if not filepath:\n",
        "            return None\n",
        "\n",
        "        if extract:\n",
        "            filepath = self.extract_archive(filepath)\n",
        "\n",
        "        if move_to_drive:\n",
        "            drive_path = self.move_to_drive(filepath)\n",
        "            if drive_path:\n",
        "                print(f\"✨ Mirror completed! File saved to Drive\")\n",
        "                return drive_path\n",
        "\n",
        "        print(f\"✨ Mirror completed! File saved locally\")\n",
        "        return filepath\n",
        "\n",
        "      # ✅ Initialize and Provide Usage Functions\n",
        "    bot = MirrorBot()\n",
        "\n",
        "    def mirror_file(url, extract=False, move_to_drive=True, custom_name=None):\n",
        "      return bot.mirror(url, extract, move_to_drive, custom_name)\n",
        "\n",
        "    def list_files():\n",
        "      bot.list_downloads()\n",
        "\n",
        "    def clear_files():\n",
        "      bot.clear_downloads()"
      ]
    },
    {
      "cell_type": "code",
      "execution_count": null,
      "id": "66b78b37",
      "metadata": {
        "colab": {
          "base_uri": "https://localhost:8080/",
          "height": 440
        },
        "id": "66b78b37",
        "outputId": "42251932-848f-4969-9cd8-caa3dabb5d43"
      },
      "outputs": [],
      "source": [
        "# 📘 Display Usage Instructions\n",
        "display(HTML(\"\"\"\n",
        "<div style=\"border: 2px solid #4CAF50; padding: 15px; border-radius: 10px; background-color: #f9f9f9;\">\n",
        "<h3>🤖 Mirror Bot Ready!</h3>\n",
        "<h4>Usage Examples:</h4>\n",
        "<code>\n",
        "# Mirror a file<br>\n",
        "mirror_file(\"https://example.com/file.zip\")<br><br>\n",
        "\n",
        "# Mirror and extract archive<br>\n",
        "mirror_file(\"https://example.com/archive.zip\", extract=True)<br><br>\n",
        "\n",
        "# Mirror with custom name<br>\n",
        "mirror_file(\"https://example.com/file.pdf\", custom_name=\"my_document.pdf\")<br><br>\n",
        "\n",
        "# Mirror without moving to Drive<br>\n",
        "mirror_file(\"https://example.com/file.txt\", move_to_drive=False)<br><br>\n",
        "\n",
        "# List downloaded files<br>\n",
        "list_files()<br><br>\n",
        "\n",
        "# Clear downloads<br>\n",
        "clear_files()\n",
        "</code>\n",
        "</div>\n",
        "\"\"\"))\n"
      ]
    },
    {
      "cell_type": "markdown",
      "id": "1189c0b8",
      "metadata": {},
      "source": [
        "Test"
      ]
    }
  ],
  "metadata": {
    "colab": {
      "include_colab_link": true,
      "provenance": []
    },
    "kernelspec": {
      "display_name": "Python 3",
      "name": "python3"
    },
    "language_info": {
      "name": "python"
    }
  },
  "nbformat": 4,
  "nbformat_minor": 5
}
